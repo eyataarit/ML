{
  "nbformat": 4,
  "nbformat_minor": 0,
  "metadata": {
    "colab": {
      "name": "Analysis of covid-19 cases.ipynb",
      "provenance": [],
      "collapsed_sections": [],
      "authorship_tag": "ABX9TyN6+KaYZ9uyEEdAkluKvWTP",
      "include_colab_link": true
    },
    "kernelspec": {
      "name": "python3",
      "display_name": "Python 3"
    },
    "language_info": {
      "name": "python"
    }
  },
  "cells": [
    {
      "cell_type": "markdown",
      "metadata": {
        "id": "view-in-github",
        "colab_type": "text"
      },
      "source": [
        "<a href=\"https://colab.research.google.com/github/eyataarit/ML/blob/main/Analysis_of_covid_19_cases.ipynb\" target=\"_parent\"><img src=\"https://colab.research.google.com/assets/colab-badge.svg\" alt=\"Open In Colab\"/></a>"
      ]
    },
    {
      "cell_type": "markdown",
      "metadata": {
        "id": "DJtnMy8WAq3-"
      },
      "source": [
        "Analysis of covid-19 cases around the world (50 countries)"
      ]
    },
    {
      "cell_type": "code",
      "metadata": {
        "id": "xbF0GIhKAGfD"
      },
      "source": [
        "import os\n",
        "import pandas as pd\n",
        "import numpy as np\n",
        "from scipy.stats import pearsonr # for correlation\n",
        "import matplotlib.pyplot as plt #for graphic visualization \n",
        "from sklearn.decomposition import PCA # analyze\n",
        "from sklearn.preprocessing import StandardScaler #centralization "
      ],
      "execution_count": 1,
      "outputs": []
    },
    {
      "cell_type": "code",
      "metadata": {
        "colab": {
          "base_uri": "https://localhost:8080/",
          "height": 234
        },
        "id": "O9n9oxw6AvCG",
        "outputId": "d77ed1ce-6ab8-4a22-c9fd-f655e00bed63"
      },
      "source": [
        "Covid19='Coronavirus 03-2021.xlsx'\n",
        "Covid19_df= pd.read_excel(Covid19,sheet_name=0, header=0, index_col=0)\n",
        "Covid19_df.head()"
      ],
      "execution_count": 35,
      "outputs": [
        {
          "output_type": "execute_result",
          "data": {
            "text/html": [
              "<div>\n",
              "<style scoped>\n",
              "    .dataframe tbody tr th:only-of-type {\n",
              "        vertical-align: middle;\n",
              "    }\n",
              "\n",
              "    .dataframe tbody tr th {\n",
              "        vertical-align: top;\n",
              "    }\n",
              "\n",
              "    .dataframe thead th {\n",
              "        text-align: right;\n",
              "    }\n",
              "</style>\n",
              "<table border=\"1\" class=\"dataframe\">\n",
              "  <thead>\n",
              "    <tr style=\"text-align: right;\">\n",
              "      <th></th>\n",
              "      <th>Cases</th>\n",
              "      <th>Deaths</th>\n",
              "      <th>Recovered</th>\n",
              "      <th>ActiveCases</th>\n",
              "      <th>Critical</th>\n",
              "      <th>Tests</th>\n",
              "      <th>Population</th>\n",
              "    </tr>\n",
              "    <tr>\n",
              "      <th>Country</th>\n",
              "      <th></th>\n",
              "      <th></th>\n",
              "      <th></th>\n",
              "      <th></th>\n",
              "      <th></th>\n",
              "      <th></th>\n",
              "      <th></th>\n",
              "    </tr>\n",
              "  </thead>\n",
              "  <tbody>\n",
              "    <tr>\n",
              "      <th>USA</th>\n",
              "      <td>30434541</td>\n",
              "      <td>554196.0</td>\n",
              "      <td>22612032</td>\n",
              "      <td>7268313</td>\n",
              "      <td>9054</td>\n",
              "      <td>387534674</td>\n",
              "      <td>332389130</td>\n",
              "    </tr>\n",
              "    <tr>\n",
              "      <th>Brazil</th>\n",
              "      <td>11877009</td>\n",
              "      <td>290525.0</td>\n",
              "      <td>10383460</td>\n",
              "      <td>1203024</td>\n",
              "      <td>8318</td>\n",
              "      <td>28600000</td>\n",
              "      <td>213638142</td>\n",
              "    </tr>\n",
              "    <tr>\n",
              "      <th>Russia</th>\n",
              "      <td>4447570</td>\n",
              "      <td>94659.0</td>\n",
              "      <td>4060652</td>\n",
              "      <td>292259</td>\n",
              "      <td>2300</td>\n",
              "      <td>117000000</td>\n",
              "      <td>145979262</td>\n",
              "    </tr>\n",
              "    <tr>\n",
              "      <th>France</th>\n",
              "      <td>4181607</td>\n",
              "      <td>91679.0</td>\n",
              "      <td>278263</td>\n",
              "      <td>3811665</td>\n",
              "      <td>4246</td>\n",
              "      <td>58498845</td>\n",
              "      <td>65376842</td>\n",
              "    </tr>\n",
              "    <tr>\n",
              "      <th>Italy</th>\n",
              "      <td>3356331</td>\n",
              "      <td>104642.0</td>\n",
              "      <td>2686236</td>\n",
              "      <td>565453</td>\n",
              "      <td>3387</td>\n",
              "      <td>46613817</td>\n",
              "      <td>60398128</td>\n",
              "    </tr>\n",
              "  </tbody>\n",
              "</table>\n",
              "</div>"
            ],
            "text/plain": [
              "            Cases    Deaths  Recovered  ...  Critical      Tests  Population\n",
              "Country                                 ...                                 \n",
              "USA      30434541  554196.0   22612032  ...      9054  387534674   332389130\n",
              "Brazil   11877009  290525.0   10383460  ...      8318   28600000   213638142\n",
              "Russia    4447570   94659.0    4060652  ...      2300  117000000   145979262\n",
              "France    4181607   91679.0     278263  ...      4246   58498845    65376842\n",
              "Italy     3356331  104642.0    2686236  ...      3387   46613817    60398128\n",
              "\n",
              "[5 rows x 7 columns]"
            ]
          },
          "metadata": {},
          "execution_count": 35
        }
      ]
    },
    {
      "cell_type": "code",
      "metadata": {
        "colab": {
          "base_uri": "https://localhost:8080/"
        },
        "id": "28UcvRqgA5Ac",
        "outputId": "2d7f1b41-8f05-470a-effe-c68d83e1129a"
      },
      "source": [
        "Covid19_df.shape\n",
        "#( 50 countries , 7 variables )"
      ],
      "execution_count": 3,
      "outputs": [
        {
          "output_type": "execute_result",
          "data": {
            "text/plain": [
              "(50, 7)"
            ]
          },
          "metadata": {},
          "execution_count": 3
        }
      ]
    },
    {
      "cell_type": "code",
      "metadata": {
        "colab": {
          "base_uri": "https://localhost:8080/"
        },
        "id": "SpvyX9-LBmYp",
        "outputId": "691f883f-4a2e-42a1-93f6-81f40826c7a1"
      },
      "source": [
        "sc= StandardScaler()\n",
        "X=sc.fit_transform(Covid19_df)\n",
        "X\n",
        "#centralized matrix"
      ],
      "execution_count": 6,
      "outputs": [
        {
          "output_type": "execute_result",
          "data": {
            "text/plain": [
              "array([[ 6.34838002e+00,  5.91652321e+00,  6.16620032e+00,\n",
              "         6.11411633e+00,  4.18455185e+00,  6.11428543e+00,\n",
              "         1.26298607e+00],\n",
              "       [ 2.26536681e+00,  2.92038316e+00,  2.63676931e+00,\n",
              "         7.92895809e-01,  3.80009594e+00,  1.00936510e-01,\n",
              "         6.85397136e-01],\n",
              "       [ 6.30747638e-01,  6.94723280e-01,  8.11869828e-01,\n",
              "        -6.13972035e-03,  6.56542045e-01,  1.58193036e+00,\n",
              "         3.56313385e-01],\n",
              "       [ 5.72230674e-01,  6.60861015e-01, -2.79809646e-01,\n",
              "         3.08151784e+00,  1.67305183e+00,  6.01841550e-01,\n",
              "        -3.57260155e-02],\n",
              "       [ 3.90654114e-01,  8.08161869e-01,  4.15183571e-01,\n",
              "         2.33539793e-01,  1.22434581e+00,  4.02727824e-01,\n",
              "        -5.99418151e-02],\n",
              "       [ 3.58971570e-01,  4.47585559e-01,  4.89997197e-01,\n",
              "        -9.23657050e-02,  4.98267397e-01,  3.10592952e-01,\n",
              "        -1.26238186e-01],\n",
              "       [ 3.06013171e-01, -4.15537264e-02,  4.44773354e-01,\n",
              "        -1.28304384e-01,  2.63206038e-01,  2.24497954e-01,\n",
              "         5.96499536e-02],\n",
              "       [ 2.34978214e-01,  4.72516368e-01,  3.35369285e-01,\n",
              "        -1.18689796e-01,  9.42794543e-01,  4.18894380e-01,\n",
              "         5.47354884e-02],\n",
              "       [ 1.43920631e-01,  2.38116768e-01,  2.21949334e-01,\n",
              "        -1.18920532e-01,  1.30113253e+00, -2.39970583e-01,\n",
              "        -1.32445224e-01],\n",
              "       [ 4.68684049e-02,  3.20477070e-01,  8.33754267e-02,\n",
              "        -9.10505971e-02,  1.46567548e+00, -1.75497342e-01,\n",
              "         5.85438131e-02],\n",
              "       [-9.98059424e-03,  2.10379255e-01,  6.16104657e-02,\n",
              "        -2.43075844e-01, -2.59674894e-01, -2.17629238e-01,\n",
              "        -6.26505266e-02],\n",
              "       [-1.43257220e-01, -1.23698128e-01, -1.08144685e-01,\n",
              "        -2.32716408e-01, -2.38258193e-01,  6.36081769e-02,\n",
              "        -1.68989188e-01],\n",
              "       [-1.51359427e-01, -1.29413805e-01, -1.28293942e-01,\n",
              "        -2.03334844e-01,  1.46720076e-01, -2.61473525e-01,\n",
              "        -2.60588784e-01],\n",
              "       [-1.68029841e-01, -1.90434062e-01, -1.38771487e-01,\n",
              "        -2.33248066e-01, -4.56081718e-01, -2.32108533e-01,\n",
              "        -3.04218472e-01],\n",
              "       [-1.74122173e-01, -2.22171413e-01, -1.54999241e-01,\n",
              "        -2.05763276e-01, -2.98851787e-01, -2.50559740e-01,\n",
              "        -1.54961764e-01],\n",
              "       [-2.10701464e-01, -3.80746822e-01, -1.92791075e-01,\n",
              "        -2.36597687e-01,  5.63562219e-01, -2.15164657e-01,\n",
              "         7.35489249e-01],\n",
              "       [-2.31926495e-01, -3.15133558e-01, -2.36951924e-01,\n",
              "        -1.79968210e-01, -1.64083275e-01, -2.87216465e-01,\n",
              "        -3.03732271e-01],\n",
              "       [-2.39769519e-01, -2.81419014e-01, -2.22049809e-01,\n",
              "        -2.59143146e-01, -4.09069447e-01, -2.80227179e-01,\n",
              "        -1.72666252e-01],\n",
              "       [-2.47879647e-01, -2.81021303e-01, -2.35400871e-01,\n",
              "        -2.50929643e-01, -3.71459629e-01, -2.22940997e-01,\n",
              "         2.60104284e-01],\n",
              "       [-2.52243948e-01, -3.16542592e-01, -2.61875849e-01,\n",
              "        -1.85113713e-01, -4.91643890e-02, -3.21769710e-01,\n",
              "        -3.20618827e-01],\n",
              "       [-2.63172081e-01, -3.05883933e-01, -2.52138908e-01,\n",
              "        -2.59109808e-01, -2.38258193e-01, -1.33856620e-01,\n",
              "        -1.82504823e-01],\n",
              "       [-2.70748002e-01, -3.12326854e-01, -2.62353230e-01,\n",
              "        -2.57772767e-01, -4.86900874e-01, -3.43725427e-01,\n",
              "        -3.32488864e-01],\n",
              "       [-2.86809843e-01, -3.38962139e-01, -2.82256869e-01,\n",
              "        -2.59261585e-01, -5.44882676e-01, -3.25703223e-01,\n",
              "        -3.34334152e-01],\n",
              "       [-2.91301095e-01, -3.15531269e-01, -2.89659727e-01,\n",
              "        -2.56476960e-01, -4.98392763e-01, -3.53612468e-01,\n",
              "        -3.33831150e-01],\n",
              "       [-2.93947705e-01, -2.84248445e-01, -2.99061290e-01,\n",
              "        -2.40867620e-01, -4.09069447e-01, -3.60506729e-01,\n",
              "        -2.95797267e-01],\n",
              "       [-2.95964181e-01, -2.96577491e-01, -3.02709756e-01,\n",
              "        -2.36866148e-01, -1.93857714e-01, -2.75980463e-01,\n",
              "        -3.03191550e-01],\n",
              "       [-2.97351402e-01, -3.28905728e-01, -3.53379024e-01,\n",
              "        -8.58822844e-02, -4.99437480e-01, -3.14547670e-01,\n",
              "        -3.29502324e-01],\n",
              "       [-2.99092854e-01, -3.53563820e-01, -3.03356846e-01,\n",
              "        -2.42974951e-01, -4.44589830e-01, -3.55645116e-01,\n",
              "        -3.28488976e-01],\n",
              "       [-2.99853681e-01, -3.67097363e-01, -3.01760768e-01,\n",
              "        -2.49815443e-01, -4.24740204e-01, -3.45369732e-01,\n",
              "        -3.32720209e-01],\n",
              "       [-3.01180396e-01, -3.47995864e-01, -3.05216147e-01,\n",
              "        -2.46077167e-01, -4.69663041e-01, -3.65509339e-01,\n",
              "        -3.28771747e-01],\n",
              "       [-3.02587199e-01, -3.35825902e-01, -3.04960428e-01,\n",
              "        -2.53403696e-01, -4.98915121e-01, -3.61382643e-01,\n",
              "        -3.43597565e-01],\n",
              "       [-3.05091458e-01, -2.50090737e-01, -3.17043863e-01,\n",
              "        -2.33278772e-01, -4.97870404e-01, -3.61455236e-01,\n",
              "         1.50696376e-01],\n",
              "       [-3.06514542e-01, -3.04940789e-01, -3.10744984e-01,\n",
              "        -2.53865168e-01, -5.42270883e-01, -3.61323672e-01,\n",
              "        -2.65426585e-01],\n",
              "       [-3.09694479e-01, -3.77812838e-01, -3.13909721e-01,\n",
              "        -2.51298997e-01, -4.61827663e-01, -3.50395110e-01,\n",
              "        -3.40053451e-01],\n",
              "       [-3.14725218e-01, -3.52643403e-01, -3.20560141e-01,\n",
              "        -2.53086982e-01, -5.10929369e-01, -3.64608228e-01,\n",
              "        -3.19965687e-01],\n",
              "       [-3.14988361e-01, -3.64142937e-01, -3.19792985e-01,\n",
              "        -2.55580335e-01, -4.63394738e-01, -3.27200568e-01,\n",
              "        -2.15682544e-01],\n",
              "       [-3.14990561e-01, -3.62495277e-01, -3.20329821e-01,\n",
              "        -2.54084499e-01, -4.98915121e-01, -3.52240907e-01,\n",
              "        -3.28425225e-01],\n",
              "       [-3.22266376e-01, -3.46189119e-01, -3.36869287e-01,\n",
              "        -2.34080646e-01, -5.36002580e-01, -3.90977987e-03,\n",
              "        -1.37688915e-01],\n",
              "       [-3.27982254e-01, -3.28223937e-01, -3.35506127e-01,\n",
              "        -2.62403280e-01, -5.44882676e-01,  2.30232330e+00,\n",
              "         6.64696827e+00],\n",
              "       [-3.28821408e-01, -3.67517801e-01, -3.36135033e-01,\n",
              "        -2.60803919e-01, -4.79587854e-01, -3.58252938e-01,\n",
              "        -2.62523138e-01],\n",
              "       [-3.33290217e-01, -3.76449257e-01, -3.42209942e-01,\n",
              "        -2.59467756e-01, -5.09362293e-01, -3.31810664e-01,\n",
              "        -2.98643178e-01],\n",
              "       [-3.34775787e-01, -3.72778951e-01, -3.44205761e-01,\n",
              "        -2.59608127e-01, -5.34957863e-01, -3.39602836e-01,\n",
              "        -3.50630351e-01],\n",
              "       [-3.38859123e-01, -3.77108322e-01, -3.55754669e-01,\n",
              "        -2.40450892e-01, -5.40181449e-01, -3.62916360e-01,\n",
              "        -1.26274977e-01],\n",
              "       [-3.41380543e-01, -3.70574495e-01, -3.52549237e-01,\n",
              "        -2.60753035e-01, -5.07272859e-01, -1.24387440e-01,\n",
              "        -2.28656893e-01],\n",
              "       [-3.41663708e-01, -3.76710610e-01, -3.53004393e-01,\n",
              "        -2.60024856e-01, -5.20854181e-01, -3.65141201e-01,\n",
              "        -3.51558542e-01],\n",
              "       [-3.42880634e-01, -3.80165016e-01, -3.54379676e-01,\n",
              "        -2.60430180e-01, -4.51380491e-01, -3.68091713e-01,\n",
              "        -3.51048206e-01],\n",
              "       [-3.46722609e-01, -3.78801435e-01, -3.58812905e-01,\n",
              "        -2.62379592e-01, -5.44360317e-01, -3.76772247e-01,\n",
              "        -2.32972553e-01],\n",
              "       [-3.47081901e-01, -3.72528962e-01, -3.59680790e-01,\n",
              "        -2.61658432e-01, -5.32868429e-01, -3.77916985e-01,\n",
              "        -2.06375657e-01],\n",
              "       [-3.47327002e-01, -3.80596817e-01, -3.59553797e-01,\n",
              "        -2.62398893e-01, -5.42793242e-01, -3.77338174e-01,\n",
              "        -3.53518403e-01],\n",
              "       [-3.47796303e-01, -3.80903622e-01, -3.60113434e-01,\n",
              "        -2.62545407e-01, -5.44882676e-01, -3.77876978e-01,\n",
              "        -3.53433777e-01]])"
            ]
          },
          "metadata": {},
          "execution_count": 6
        }
      ]
    },
    {
      "cell_type": "code",
      "metadata": {
        "colab": {
          "base_uri": "https://localhost:8080/"
        },
        "id": "p27wCy8XCCKq",
        "outputId": "cbcd39f6-0bf4-48b6-9add-8257f4db4ca0"
      },
      "source": [
        "np.mean(X,axis=0)\n",
        "#mean"
      ],
      "execution_count": 7,
      "outputs": [
        {
          "output_type": "execute_result",
          "data": {
            "text/plain": [
              "array([ 1.77635684e-17, -5.88418203e-17, -9.99200722e-18, -1.55431223e-17,\n",
              "        7.54951657e-17,  2.44249065e-17, -1.55431223e-17])"
            ]
          },
          "metadata": {},
          "execution_count": 7
        }
      ]
    },
    {
      "cell_type": "code",
      "metadata": {
        "colab": {
          "base_uri": "https://localhost:8080/"
        },
        "id": "kHIn_pbDCHE_",
        "outputId": "9885917b-12da-4f85-b1f3-1b03773a2021"
      },
      "source": [
        "np.std(X,axis=0)\n",
        "#standard derivation "
      ],
      "execution_count": 8,
      "outputs": [
        {
          "output_type": "execute_result",
          "data": {
            "text/plain": [
              "array([1., 1., 1., 1., 1., 1., 1.])"
            ]
          },
          "metadata": {},
          "execution_count": 8
        }
      ]
    },
    {
      "cell_type": "code",
      "metadata": {
        "colab": {
          "base_uri": "https://localhost:8080/"
        },
        "id": "V9bydzRZCQy_",
        "outputId": "88eebaa6-b156-49f6-8497-6963b1483b4a"
      },
      "source": [
        "acp=PCA()\n",
        "V=acp.fit_transform(X)\n",
        "print(V)\n",
        "#correlation matrix"
      ],
      "execution_count": 9,
      "outputs": [
        {
          "output_type": "stream",
          "name": "stdout",
          "text": [
            "[[ 1.43024076e+01 -3.38860060e-01 -1.53824063e+00 -3.88028476e-01\n",
            "  -8.72514736e-02  6.05243644e-02  8.31466427e-05]\n",
            " [ 5.17776020e+00 -9.14861229e-01  2.83705092e+00 -2.56243271e-01\n",
            "  -6.30851725e-01 -6.15074911e-02 -1.04777499e-04]\n",
            " [ 1.81005386e+00  4.58961233e-01 -3.47311620e-02 -6.32871426e-01\n",
            "   8.38544556e-01 -9.12896951e-02  9.45033075e-05]\n",
            " [ 2.47606910e+00 -5.49396624e-01 -4.64689793e-01  2.61682946e+00\n",
            "   1.94368558e-02 -6.29060014e-02 -1.21217850e-04]\n",
            " [ 1.38388689e+00 -3.40840565e-01  6.85083540e-01  1.28813705e-01\n",
            "   3.56379045e-01 -2.30664523e-01  2.81350600e-04]\n",
            " [ 8.02063484e-01 -2.37650724e-01  2.96030085e-01 -3.36384549e-01\n",
            "   1.91848652e-01 -3.34451246e-02  6.17685247e-06]\n",
            " [ 4.42674083e-01  1.78648883e-02  1.60296471e-01 -3.03049818e-01\n",
            "   1.29677053e-01  3.19782381e-01 -6.58755892e-04]\n",
            " [ 9.19787311e-01 -8.40603619e-02  6.28885465e-01 -8.84819264e-02\n",
            "   4.55049291e-01 -9.43697581e-02  3.00417670e-05]\n",
            " [ 5.88311087e-01 -4.62732618e-01  1.09590903e+00  2.48354921e-01\n",
            "   2.61628921e-01  1.32331925e-01 -4.55767281e-04]\n",
            " [ 6.48211380e-01 -2.83885226e-01  1.22978860e+00  4.13959094e-01\n",
            "   3.43570467e-01  4.84688579e-03 -2.56714860e-04]\n",
            " [-1.76210754e-01 -8.59868047e-02  3.71457630e-02 -3.04779293e-01\n",
            "  -2.34615757e-01 -1.95449482e-01  3.79820065e-04]\n",
            " [-3.37872027e-01 -3.13086017e-02 -1.41464237e-01 -1.74710603e-01\n",
            "   1.51935764e-01 -4.78354374e-02  6.07001695e-05]\n",
            " [-3.33981477e-01 -2.75591959e-01  2.38996217e-01  4.63998428e-02\n",
            "   8.70560016e-02  3.03025555e-02 -1.37425798e-04]\n",
            " [-6.05327027e-01 -1.94042996e-01 -2.11144741e-01 -1.90885948e-01\n",
            "  -8.35161190e-02 -2.29595960e-02  5.15311475e-05]\n",
            " [-5.44796562e-01 -8.56942270e-02 -7.24745405e-02 -8.06527599e-02\n",
            "  -7.41343606e-02  2.73413615e-02 -7.43402191e-05]\n",
            " [-1.94540169e-01  6.26748769e-01  7.35570089e-01  3.53029073e-01\n",
            "   9.39970887e-02  2.86638917e-01  1.62843802e-03]\n",
            " [-6.16286390e-01 -2.31728437e-01 -1.88767453e-02  4.89362063e-02\n",
            "   3.83995742e-02  7.46398711e-02 -1.91399662e-04]\n",
            " [-7.02270742e-01 -6.61903056e-02 -1.24739545e-01 -9.92589169e-02\n",
            "  -7.55918651e-02  1.15897157e-02 -3.74728668e-05]\n",
            " [-6.12604384e-01  3.41840560e-01 -2.46462044e-02 -3.92586037e-02\n",
            "  -1.39526083e-01  1.95044742e-02 -7.38020106e-05]\n",
            " [-6.10232351e-01 -2.71070635e-01  7.71845805e-02  1.09398284e-01\n",
            "   7.39678698e-02  7.84986322e-02 -2.17739950e-04]\n",
            " [-6.14952264e-01 -5.07987931e-02 -7.01296020e-02 -3.51023214e-02\n",
            "   1.18335023e-01  2.50737186e-02 -9.64871235e-05]\n",
            " [-8.20617164e-01 -2.07506307e-01 -1.95402374e-01 -1.00536977e-01\n",
            "  -8.44729362e-02  4.36278686e-04 -3.75691117e-06]\n",
            " [-8.62753682e-01 -1.87091224e-01 -2.47978462e-01 -1.08545036e-01\n",
            "  -7.85953278e-02 -4.03181220e-04  2.97926806e-06]\n",
            " [-8.49965673e-01 -2.04538181e-01 -2.00595475e-01 -8.38944651e-02\n",
            "  -8.48608900e-02 -1.49716110e-02  2.44822760e-05]\n",
            " [-7.99414991e-01 -1.90644084e-01 -1.27776111e-01 -3.45904247e-02\n",
            "  -7.51473109e-02 -2.96038684e-02  3.84024072e-05]\n",
            " [-6.92223605e-01 -2.05808436e-01 -1.45496814e-02  3.92600283e-02\n",
            "   7.52939917e-02  3.17097244e-03 -5.91464746e-05]\n",
            " [-8.02488395e-01 -1.96997614e-01 -3.01000394e-01  6.60518475e-02\n",
            "  -8.70329702e-02 -2.15555898e-02  3.28993020e-05]\n",
            " [-8.49508414e-01 -2.03680485e-01 -1.71240687e-01 -3.84223631e-02\n",
            "  -5.73165796e-02  1.84270849e-02 -4.99726786e-05]\n",
            " [-8.46647218e-01 -2.05502089e-01 -1.60866204e-01 -3.62099388e-02\n",
            "  -3.60245934e-02  3.15872906e-02 -7.86651850e-05]\n",
            " [-8.63385743e-01 -2.02711414e-01 -1.82853523e-01 -4.80484689e-02\n",
            "  -7.37308873e-02  9.26082500e-03 -2.85549238e-05]\n",
            " [-8.73070251e-01 -2.10801072e-01 -2.03993956e-01 -6.81350629e-02\n",
            "  -7.83010557e-02 -7.04377624e-03  7.55978091e-06]\n",
            " [-7.67504771e-01  2.30079774e-01 -8.55662625e-02 -1.46457326e-02\n",
            "  -2.40613479e-01 -6.60679910e-02  1.07439793e-04]\n",
            " [-8.70017901e-01 -1.34815957e-01 -2.12519804e-01 -7.88151943e-02\n",
            "  -1.22094006e-01 -4.02970335e-02  7.56129978e-05]\n",
            " [-8.77981545e-01 -2.03857784e-01 -1.87729714e-01 -4.11021412e-02\n",
            "  -4.42270718e-02  2.72786036e-02 -6.63010565e-05]\n",
            " [-8.94310905e-01 -1.83288205e-01 -2.07985431e-01 -5.64638617e-02\n",
            "  -8.21081931e-02 -3.57146111e-03 -2.20571289e-07]\n",
            " [-8.53258726e-01 -8.29635144e-02 -1.65736237e-01 -3.48860444e-02\n",
            "  -6.26031293e-02  1.35045754e-02 -4.43582408e-05]\n",
            " [-8.90683070e-01 -1.87996471e-01 -2.07468737e-01 -5.38289820e-02\n",
            "  -6.34005864e-02  5.06109559e-03 -1.88936091e-05]\n",
            " [-7.38565426e-01  9.57320586e-02 -3.46592524e-01 -8.38194277e-02\n",
            "   1.20124176e-01 -4.49896149e-02  6.72010443e-05]\n",
            " [ 1.07147070e+00  6.99425242e+00  2.62597374e-01  1.63964061e-01\n",
            "  -1.10067302e-01 -3.04512948e-02 -2.17451135e-04]\n",
            " [-8.93995078e-01 -1.28352567e-01 -1.72826747e-01 -3.24478897e-02\n",
            "  -6.94872407e-02  3.79007752e-03 -2.33355456e-05]\n",
            " [-9.07559739e-01 -1.46469963e-01 -2.15879407e-01 -4.47971916e-02\n",
            "  -4.72719325e-02 -3.33320583e-04 -1.15170085e-05]\n",
            " [-9.27295504e-01 -1.92180215e-01 -2.42568429e-01 -5.74713447e-02\n",
            "  -4.81686092e-02 -9.58146333e-03  1.16194488e-05]\n",
            " [-9.08726516e-01  6.99827187e-03 -1.93451447e-01 -1.36404474e-02\n",
            "  -1.31982807e-01 -1.41987460e-03 -1.02255051e-05]\n",
            " [-8.22362149e-01 -1.91135257e-02 -2.85673615e-01 -6.53359671e-02\n",
            "   8.92624362e-02 -2.72100590e-02  3.12851092e-05]\n",
            " [-9.40448339e-01 -2.00873163e-01 -2.21915977e-01 -4.19679107e-02\n",
            "  -5.67445775e-02 -7.71530079e-03  5.44215322e-06]\n",
            " [-9.17977810e-01 -2.12022022e-01 -1.70792198e-01 -1.41224489e-02\n",
            "  -3.07169555e-02  4.74899318e-03 -2.90373947e-05]\n",
            " [-9.44126414e-01 -9.04539640e-02 -2.05115627e-01 -3.50925019e-02\n",
            "  -1.04533316e-01 -8.41512439e-03  6.28441405e-06]\n",
            " [-9.34193941e-01 -6.90762359e-02 -1.89627732e-01 -2.81155831e-02\n",
            "  -1.09869728e-01 -1.13856863e-02  9.59474218e-06]\n",
            " [-9.61465275e-01 -2.00726408e-01 -2.32238190e-01 -4.49951201e-02\n",
            "  -6.93794890e-02 -1.12578226e-02  1.49251155e-05]\n",
            " [-9.63073287e-01 -2.00306905e-01 -2.33455982e-01 -4.53580883e-02\n",
            "  -7.02684087e-02 -1.16394166e-02  1.59008315e-05]]\n"
          ]
        }
      ]
    },
    {
      "cell_type": "code",
      "metadata": {
        "colab": {
          "base_uri": "https://localhost:8080/"
        },
        "id": "GTiCn0NaDhm1",
        "outputId": "348ef426-a625-4401-9478-a7e206b3058e"
      },
      "source": [
        "vp=acp.explained_variance_\n",
        "vp"
      ],
      "execution_count": 10,
      "outputs": [
        {
          "output_type": "execute_result",
          "data": {
            "text/plain": [
              "array([5.51850464e+00, 1.07122404e+00, 3.32809606e-01, 1.70634951e-01,\n",
              "       4.24423837e-02, 7.24144006e-03, 7.86045992e-08])"
            ]
          },
          "metadata": {},
          "execution_count": 10
        }
      ]
    },
    {
      "cell_type": "code",
      "metadata": {
        "colab": {
          "base_uri": "https://localhost:8080/"
        },
        "id": "pBy54mxtD1ry",
        "outputId": "088e123b-be6f-44bb-b4c8-a051dc22c832"
      },
      "source": [
        "print(acp.explained_variance_ratio_)"
      ],
      "execution_count": 11,
      "outputs": [
        {
          "output_type": "stream",
          "name": "stdout",
          "text": [
            "[7.72590650e-01 1.49971366e-01 4.65933448e-02 2.38888931e-02\n",
            " 5.94193372e-03 1.01380161e-03 1.10046439e-08]\n"
          ]
        }
      ]
    },
    {
      "cell_type": "code",
      "metadata": {
        "colab": {
          "base_uri": "https://localhost:8080/",
          "height": 295
        },
        "id": "fnDZsOmDElDX",
        "outputId": "8b795637-fa5f-4387-b68c-900e7058dd41"
      },
      "source": [
        "p=Covid19_df.shape[1]\n",
        "p\n",
        "plt.plot(np.arange(1,p+1),vp)\n",
        "plt.title(\"Score plot\")\n",
        "plt.ylabel(\"Valeur propre\")\n",
        "plt.xlabel(\"Axe\")\n",
        "plt.show()"
      ],
      "execution_count": 16,
      "outputs": [
        {
          "output_type": "display_data",
          "data": {
            "image/png": "[encoded data removed]",
            "text/plain": [
              "<Figure size 432x288 with 1 Axes>"
            ]
          },
          "metadata": {
            "needs_background": "light"
          }
        }
      ]
    },
    {
      "cell_type": "code",
      "metadata": {
        "colab": {
          "base_uri": "https://localhost:8080/",
          "height": 295
        },
        "id": "4tfKrPI4E2EH",
        "outputId": "2761ba9d-382e-45b4-9819-64a0618b9c4b"
      },
      "source": [
        "plt.plot(np.arange(1,p+1),np.cumsum(acp.explained_variance_ratio_))\n",
        "plt.title(\"Quantity of information accumuled \")\n",
        "plt.ylabel(\"Cumullation of proportion of inertie\")\n",
        "plt.xlabel(\"Axe\")\n",
        "plt.show()"
      ],
      "execution_count": 15,
      "outputs": [
        {
          "output_type": "display_data",
          "data": {
            "image/png": "[encoded data removed]",
            "text/plain": [
              "<Figure size 432x288 with 1 Axes>"
            ]
          },
          "metadata": {
            "needs_background": "light"
          }
        }
      ]
    },
    {
      "cell_type": "code",
      "metadata": {
        "colab": {
          "base_uri": "https://localhost:8080/"
        },
        "id": "VKTCSoK4E79d",
        "outputId": "40710cdb-8743-4eb9-a966-589f33c463d9"
      },
      "source": [
        "seuil=1/np.arange(p,0,-1) \n",
        "seuil=np.cumsum(seuil)\n",
        "seuil=seuil[::-1]\n",
        "print(pd.DataFrame({'Val propre':vp, 'Seuils':seuil}))\n",
        "#choix des axes: l'axe valide c'est  qui a une vp>seuil\n",
        "#choose the axe with the highest vp (greater than the seuil ) "
      ],
      "execution_count": 17,
      "outputs": [
        {
          "output_type": "stream",
          "name": "stdout",
          "text": [
            "     Val propre    Seuils\n",
            "0  5.518505e+00  2.592857\n",
            "1  1.071224e+00  1.592857\n",
            "2  3.328096e-01  1.092857\n",
            "3  1.706350e-01  0.759524\n",
            "4  4.244238e-02  0.509524\n",
            "5  7.241440e-03  0.309524\n",
            "6  7.860460e-08  0.142857\n"
          ]
        }
      ]
    },
    {
      "cell_type": "code",
      "metadata": {
        "colab": {
          "base_uri": "https://localhost:8080/",
          "height": 1000
        },
        "id": "qClO41IVFW2_",
        "outputId": "586a21c3-87f8-4ed0-ef73-c56ac10ec4b9"
      },
      "source": [
        "#positionnement of individuals in the first plan\n",
        "fig, axes = plt.subplots(figsize=(40,40))\n",
        "axes.set_xlim(-15,15)\n",
        "axes.set_ylim(-15,15) \n",
        "\n",
        "n=Covid19_df.shape[0]\n",
        "n\n",
        "coord = acp.fit_transform(X)\n",
        "for i in range(n):\n",
        " plt.annotate(Covid19_df.index[i],(coord[i,0],coord[i,1]))\n",
        "\n",
        "plt.plot([-15,15],[0,0],color='silver',linestyle='-',linewidth=1)\n",
        "plt.plot([0,0],[-15,15],color='silver',linestyle='-',linewidth=1)\n",
        "\n",
        "plt.show()"
      ],
      "execution_count": 19,
      "outputs": [
        {
          "output_type": "display_data",
          "data": {
            "image/png": "[encoded data removed]",
            "text/plain": [
              "<Figure size 2880x2880 with 1 Axes>"
            ]
          },
          "metadata": {
            "needs_background": "light"
          }
        }
      ]
    },
    {
      "cell_type": "code",
      "metadata": {
        "colab": {
          "base_uri": "https://localhost:8080/"
        },
        "id": "RqUwSB07GGCW",
        "outputId": "fd8e2a71-5bb3-49ee-b7ad-ad9eb839a93d"
      },
      "source": [
        "#contribution of individuals in the total inertie \n",
        "di = np.sum(X**2,axis=1)\n",
        "print(pd.DataFrame({'Country':Covid19_df.index,'d_i':di}).head())"
      ],
      "execution_count": 36,
      "outputs": [
        {
          "output_type": "stream",
          "name": "stdout",
          "text": [
            "  Country         d_i\n",
            "0     USA  207.201715\n",
            "1  Brazil   36.162447\n",
            "2  Russia    4.600164\n",
            "3  France   13.500823\n",
            "4   Italy    2.697460\n"
          ]
        }
      ]
    },
    {
      "cell_type": "code",
      "metadata": {
        "colab": {
          "base_uri": "https://localhost:8080/"
        },
        "id": "jv8bW7J3GL7E",
        "outputId": "4a876259-af78-4a13-a6dd-3480f93799b4"
      },
      "source": [
        "#quality of  représentation of individuals - COS2\n",
        "cos2 = V**2\n",
        "for j in range(p):\n",
        " cos2[:,j] = cos2[:,j]/di\n",
        "print(pd.DataFrame({'Country':Covid19_df.index,'COS2_1':cos2[:,0],'COS2_2':cos2[:,1]}).head())"
      ],
      "execution_count": 37,
      "outputs": [
        {
          "output_type": "stream",
          "name": "stdout",
          "text": [
            "  Country    COS2_1    COS2_2\n",
            "0     USA  0.987245  0.000554\n",
            "1  Brazil  0.741355  0.023145\n",
            "2  Russia  0.712213  0.045791\n",
            "3  France  0.454114  0.022357\n",
            "4   Italy  0.709980  0.043067\n"
          ]
        }
      ]
    },
    {
      "cell_type": "code",
      "metadata": {
        "colab": {
          "base_uri": "https://localhost:8080/"
        },
        "id": "XCIojhiyGRNU",
        "outputId": "851a0514-4202-427a-d18c-336b07d7a006"
      },
      "source": [
        "print(np.sum(cos2,axis=1))\n",
        "#verify that for every individual sum(cos2 = 1)"
      ],
      "execution_count": 22,
      "outputs": [
        {
          "output_type": "stream",
          "name": "stdout",
          "text": [
            "[1. 1. 1. 1. 1. 1. 1. 1. 1. 1. 1. 1. 1. 1. 1. 1. 1. 1. 1. 1. 1. 1. 1. 1.\n",
            " 1. 1. 1. 1. 1. 1. 1. 1. 1. 1. 1. 1. 1. 1. 1. 1. 1. 1. 1. 1. 1. 1. 1. 1.\n",
            " 1. 1.]\n"
          ]
        }
      ]
    },
    {
      "cell_type": "code",
      "metadata": {
        "colab": {
          "base_uri": "https://localhost:8080/"
        },
        "id": "P2xYpgNaGc5j",
        "outputId": "d32392d5-b3a3-4bbc-b435-fc88448d5e35"
      },
      "source": [
        "#contributions for axes\n",
        "ctr = V**2\n",
        "for j in range(p):\n",
        " ctr[:,j] = ctr[:,j]/(n*vp[j])\n",
        " print(pd.DataFrame({'Country':Covid19_df.index,'CTR_1':ctr[:,0],'CTR_2':ctr[:,1]}).head())"
      ],
      "execution_count": 40,
      "outputs": [
        {
          "output_type": "stream",
          "name": "stdout",
          "text": [
            "  Country     CTR_1     CTR_2\n",
            "0     USA  0.741356  0.114826\n",
            "1  Brazil  0.097161  0.836971\n",
            "2  Russia  0.011874  0.210645\n",
            "3  France  0.022219  0.301837\n",
            "4   Italy  0.006941  0.116172\n",
            "  Country     CTR_1     CTR_2\n",
            "0     USA  0.741356  0.002144\n",
            "1  Brazil  0.097161  0.015626\n",
            "2  Russia  0.011874  0.003933\n",
            "3  France  0.022219  0.005635\n",
            "4   Italy  0.006941  0.002169\n",
            "  Country     CTR_1     CTR_2\n",
            "0     USA  0.741356  0.002144\n",
            "1  Brazil  0.097161  0.015626\n",
            "2  Russia  0.011874  0.003933\n",
            "3  France  0.022219  0.005635\n",
            "4   Italy  0.006941  0.002169\n",
            "  Country     CTR_1     CTR_2\n",
            "0     USA  0.741356  0.002144\n",
            "1  Brazil  0.097161  0.015626\n",
            "2  Russia  0.011874  0.003933\n",
            "3  France  0.022219  0.005635\n",
            "4   Italy  0.006941  0.002169\n",
            "  Country     CTR_1     CTR_2\n",
            "0     USA  0.741356  0.002144\n",
            "1  Brazil  0.097161  0.015626\n",
            "2  Russia  0.011874  0.003933\n",
            "3  France  0.022219  0.005635\n",
            "4   Italy  0.006941  0.002169\n",
            "  Country     CTR_1     CTR_2\n",
            "0     USA  0.741356  0.002144\n",
            "1  Brazil  0.097161  0.015626\n",
            "2  Russia  0.011874  0.003933\n",
            "3  France  0.022219  0.005635\n",
            "4   Italy  0.006941  0.002169\n",
            "  Country     CTR_1     CTR_2\n",
            "0     USA  0.741356  0.002144\n",
            "1  Brazil  0.097161  0.015626\n",
            "2  Russia  0.011874  0.003933\n",
            "3  France  0.022219  0.005635\n",
            "4   Italy  0.006941  0.002169\n"
          ]
        }
      ]
    },
    {
      "cell_type": "code",
      "metadata": {
        "colab": {
          "base_uri": "https://localhost:8080/"
        },
        "id": "jqatC74TGgpD",
        "outputId": "8afbfb59-8032-4891-b350-1546e89f498b"
      },
      "source": [
        "\n",
        "print(acp.components_)"
      ],
      "execution_count": 24,
      "outputs": [
        {
          "output_type": "stream",
          "name": "stdout",
          "text": [
            "[[ 4.24796039e-01  4.22865075e-01  4.17465685e-01  3.92257960e-01\n",
            "   3.77978100e-01  3.88924319e-01  1.35867501e-01]\n",
            " [-1.06529875e-01 -1.20115414e-01 -1.03599842e-01 -1.00744490e-01\n",
            "  -1.64899816e-01  3.00655359e-01  9.14196751e-01]\n",
            " [-7.54004437e-02  1.34179700e-01  5.04614313e-02 -4.64951073e-01\n",
            "   7.19526791e-01 -4.29964029e-01  2.34514084e-01]\n",
            " [-2.09790286e-01 -1.67467869e-01 -5.03565364e-01  7.06571204e-01\n",
            "   3.75521873e-01 -1.58782335e-01  9.43032298e-02]\n",
            " [-2.34201565e-01 -2.30937100e-01 -2.10541761e-01 -2.76608124e-01\n",
            "   3.86592201e-01  7.35400067e-01 -2.84096826e-01]\n",
            " [ 3.10409748e-01 -8.40948621e-01  4.00394480e-01  7.58330390e-02\n",
            "   1.47483592e-01 -8.63136945e-02  3.43999008e-02]\n",
            " [ 7.79293228e-01 -1.34614202e-02 -5.95165078e-01 -1.95701736e-01\n",
            "  -4.32086068e-04  1.40199420e-04 -9.53803072e-05]]\n"
          ]
        }
      ]
    },
    {
      "cell_type": "code",
      "metadata": {
        "colab": {
          "base_uri": "https://localhost:8080/"
        },
        "id": "QEHmrbbBHq6P",
        "outputId": "3c76ddf4-85f1-41a1-f2e0-3f6540ec91cb"
      },
      "source": [
        "sqrt_vp = np.sqrt(vp)\n",
        "W = np.zeros((p,p))\n",
        "for k in range(p):\n",
        " W[:,k] = acp.components_[k,:] * sqrt_vp[k]\n",
        " print(W)"
      ],
      "execution_count": 27,
      "outputs": [
        {
          "output_type": "stream",
          "name": "stdout",
          "text": [
            "[[0.99790952 0.         0.         0.         0.         0.\n",
            "  0.        ]\n",
            " [0.99337339 0.         0.         0.         0.         0.\n",
            "  0.        ]\n",
            " [0.98068942 0.         0.         0.         0.         0.\n",
            "  0.        ]\n",
            " [0.9214727  0.         0.         0.         0.         0.\n",
            "  0.        ]\n",
            " [0.88792717 0.         0.         0.         0.         0.\n",
            "  0.        ]\n",
            " [0.91364147 0.         0.         0.         0.         0.\n",
            "  0.        ]\n",
            " [0.31917311 0.         0.         0.         0.         0.\n",
            "  0.        ]]\n",
            "[[ 0.99790952 -0.11025837  0.          0.          0.          0.\n",
            "   0.        ]\n",
            " [ 0.99337339 -0.1243194   0.          0.          0.          0.\n",
            "   0.        ]\n",
            " [ 0.98068942 -0.10722579  0.          0.          0.          0.\n",
            "   0.        ]\n",
            " [ 0.9214727  -0.1042705   0.          0.          0.          0.\n",
            "   0.        ]\n",
            " [ 0.88792717 -0.17067123  0.          0.          0.          0.\n",
            "   0.        ]\n",
            " [ 0.91364147  0.31117816  0.          0.          0.          0.\n",
            "   0.        ]\n",
            " [ 0.31917311  0.94619321  0.          0.          0.          0.\n",
            "   0.        ]]\n",
            "[[ 0.99790952 -0.11025837 -0.04349825  0.          0.          0.\n",
            "   0.        ]\n",
            " [ 0.99337339 -0.1243194   0.0774078   0.          0.          0.\n",
            "   0.        ]\n",
            " [ 0.98068942 -0.10722579  0.02911102  0.          0.          0.\n",
            "   0.        ]\n",
            " [ 0.9214727  -0.1042705  -0.26822866  0.          0.          0.\n",
            "   0.        ]\n",
            " [ 0.88792717 -0.17067123  0.41509251  0.          0.          0.\n",
            "   0.        ]\n",
            " [ 0.91364147  0.31117816 -0.24804476  0.          0.          0.\n",
            "   0.        ]\n",
            " [ 0.31917311  0.94619321  0.13529036  0.          0.          0.\n",
            "   0.        ]]\n",
            "[[ 0.99790952 -0.11025837 -0.04349825 -0.08666014  0.          0.\n",
            "   0.        ]\n",
            " [ 0.99337339 -0.1243194   0.0774078  -0.0691776   0.          0.\n",
            "   0.        ]\n",
            " [ 0.98068942 -0.10722579  0.02911102 -0.2080127   0.          0.\n",
            "   0.        ]\n",
            " [ 0.9214727  -0.1042705  -0.26822866  0.29187032  0.          0.\n",
            "   0.        ]\n",
            " [ 0.88792717 -0.17067123  0.41509251  0.15512051  0.          0.\n",
            "   0.        ]\n",
            " [ 0.91364147  0.31117816 -0.24804476 -0.06558978  0.          0.\n",
            "   0.        ]\n",
            " [ 0.31917311  0.94619321  0.13529036  0.03895476  0.          0.\n",
            "   0.        ]]\n",
            "[[ 0.99790952 -0.11025837 -0.04349825 -0.08666014 -0.04824915  0.\n",
            "   0.        ]\n",
            " [ 0.99337339 -0.1243194   0.0774078  -0.0691776  -0.04757662  0.\n",
            "   0.        ]\n",
            " [ 0.98068942 -0.10722579  0.02911102 -0.2080127  -0.04337486  0.\n",
            "   0.        ]\n",
            " [ 0.9214727  -0.1042705  -0.26822866  0.29187032 -0.05698556  0.\n",
            "   0.        ]\n",
            " [ 0.88792717 -0.17067123  0.41509251  0.15512051  0.07964398  0.\n",
            "   0.        ]\n",
            " [ 0.91364147  0.31117816 -0.24804476 -0.06558978  0.15150381  0.\n",
            "   0.        ]\n",
            " [ 0.31917311  0.94619321  0.13529036  0.03895476 -0.05852835  0.\n",
            "   0.        ]]\n",
            "[[ 0.99790952 -0.11025837 -0.04349825 -0.08666014 -0.04824915  0.02641483\n",
            "   0.        ]\n",
            " [ 0.99337339 -0.1243194   0.0774078  -0.0691776  -0.04757662 -0.07156191\n",
            "   0.        ]\n",
            " [ 0.98068942 -0.10722579  0.02911102 -0.2080127  -0.04337486  0.03407223\n",
            "   0.        ]\n",
            " [ 0.9214727  -0.1042705  -0.26822866  0.29187032 -0.05698556  0.00645314\n",
            "   0.        ]\n",
            " [ 0.88792717 -0.17067123  0.41509251  0.15512051  0.07964398  0.01255036\n",
            "   0.        ]\n",
            " [ 0.91364147  0.31117816 -0.24804476 -0.06558978  0.15150381 -0.00734501\n",
            "   0.        ]\n",
            " [ 0.31917311  0.94619321  0.13529036  0.03895476 -0.05852835  0.00292732\n",
            "   0.        ]]\n",
            "[[ 9.97909518e-01 -1.10258371e-01 -4.34982543e-02 -8.66601371e-02\n",
            "  -4.82491512e-02  2.64148300e-02  2.18486638e-04]\n",
            " [ 9.93373394e-01 -1.24319398e-01  7.74078030e-02 -6.91776000e-02\n",
            "  -4.75766206e-02 -7.15619115e-02 -3.77411267e-06]\n",
            " [ 9.80689419e-01 -1.07225789e-01  2.91110246e-02 -2.08012698e-01\n",
            "  -4.33748649e-02  3.40722294e-02 -1.66863527e-04]\n",
            " [ 9.21472696e-01 -1.04270501e-01 -2.68228661e-01  2.91870317e-01\n",
            "  -5.69855593e-02  6.45313768e-03 -5.48679404e-05]\n",
            " [ 8.87927167e-01 -1.70671234e-01  4.15092508e-01  1.55120514e-01\n",
            "   7.96439833e-02  1.25503598e-02 -1.21141861e-07]\n",
            " [ 9.13641474e-01  3.11178158e-01 -2.48044756e-01 -6.55897811e-02\n",
            "   1.51503808e-01 -7.34500636e-03  3.93070268e-08]\n",
            " [ 3.19173109e-01  9.46193214e-01  1.35290361e-01  3.89547627e-02\n",
            "  -5.85283479e-02  2.92731637e-03 -2.67413111e-08]]\n"
          ]
        }
      ]
    },
    {
      "cell_type": "code",
      "metadata": {
        "colab": {
          "base_uri": "https://localhost:8080/"
        },
        "id": "mDzJWD9fH0fl",
        "outputId": "a4866563-25e6-4322-8843-4a30a66a3ac8"
      },
      "source": [
        "print(pd.DataFrame({'id':Covid19_df.columns,'COR_1':W[:,0],'COR_2':W[:,1]}))"
      ],
      "execution_count": 28,
      "outputs": [
        {
          "output_type": "stream",
          "name": "stdout",
          "text": [
            "            id     COR_1     COR_2\n",
            "0        Cases  0.997910 -0.110258\n",
            "1       Deaths  0.993373 -0.124319\n",
            "2    Recovered  0.980689 -0.107226\n",
            "3  ActiveCases  0.921473 -0.104271\n",
            "4     Critical  0.887927 -0.170671\n",
            "5        Tests  0.913641  0.311178\n",
            "6   Population  0.319173  0.946193\n"
          ]
        }
      ]
    },
    {
      "cell_type": "code",
      "metadata": {
        "colab": {
          "base_uri": "https://localhost:8080/",
          "height": 1000
        },
        "id": "eKC8oxSiH3Xc",
        "outputId": "e02b0d80-2c38-4e6e-feac-65e1fd02db1e"
      },
      "source": [
        "fig, axes = plt.subplots(figsize=(25,25))\n",
        "axes.set_xlim(-1.25,1.25)\n",
        "axes.set_ylim(-1.25,1.25)\n",
        "\n",
        "for j in range(p):\n",
        " plt.annotate(Covid19_df.columns[j],(W[j,0],W[j,1]))\n",
        "\n",
        "plt.plot([-1.25,1.25],[0,0],color='silver',linestyle='-',linewidth=1)\n",
        "plt.plot([0,0],[-1,1],color='silver',linestyle='-',linewidth=1)\n",
        "#add  cercle\n",
        "cercle = plt.Circle((0,0),1.25,color='blue',fill=False)\n",
        "axes.add_artist(cercle)\n",
        "\n",
        "plt.show()"
      ],
      "execution_count": 29,
      "outputs": [
        {
          "output_type": "display_data",
          "data": {
            "image/png": "[encoded data removed]",
            "text/plain": [
              "<Figure size 1800x1800 with 1 Axes>"
            ]
          },
          "metadata": {
            "needs_background": "light"
          }
        }
      ]
    },
    {
      "cell_type": "code",
      "metadata": {
        "colab": {
          "base_uri": "https://localhost:8080/"
        },
        "id": "mCErjxB6IGG8",
        "outputId": "30a27825-f6ce-41fc-f119-34a2e1ebb2e3"
      },
      "source": [
        "cos2_var = W**2\n",
        "print(pd.DataFrame({'idVar':Covid19_df.columns,'COS2_1':cos2_var[:,0],'COS2_2':cos2_var[:,1]}))"
      ],
      "execution_count": 30,
      "outputs": [
        {
          "output_type": "stream",
          "name": "stdout",
          "text": [
            "         idVar    COS2_1    COS2_2\n",
            "0        Cases  0.995823  0.012157\n",
            "1       Deaths  0.986791  0.015455\n",
            "2    Recovered  0.961752  0.011497\n",
            "3  ActiveCases  0.849112  0.010872\n",
            "4     Critical  0.788415  0.029129\n",
            "5        Tests  0.834741  0.096832\n",
            "6   Population  0.101871  0.895282\n"
          ]
        }
      ]
    },
    {
      "cell_type": "code",
      "metadata": {
        "colab": {
          "base_uri": "https://localhost:8080/"
        },
        "id": "FCwXJXRiINOQ",
        "outputId": "5c6e1518-0579-47b5-a66d-caa0111fbcf0"
      },
      "source": [
        "#contribution of variables\n",
        "ctrvar = cos2_var\n",
        "for k in range(p):\n",
        " ctrvar[:,k] = ctrvar[:,k]/vp[k]\n",
        "\n",
        "print(pd.DataFrame({'idVar':Covid19_df.columns,'CTR_1':ctrvar[:,0],'CTR_2':ctrvar[:,1]}))"
      ],
      "execution_count": 31,
      "outputs": [
        {
          "output_type": "stream",
          "name": "stdout",
          "text": [
            "         idVar     CTR_1     CTR_2\n",
            "0        Cases  0.180452  0.011349\n",
            "1       Deaths  0.178815  0.014428\n",
            "2    Recovered  0.174278  0.010733\n",
            "3  ActiveCases  0.153866  0.010149\n",
            "4     Critical  0.142867  0.027192\n",
            "5        Tests  0.151262  0.090394\n",
            "6   Population  0.018460  0.835756\n"
          ]
        }
      ]
    },
    {
      "cell_type": "code",
      "metadata": {
        "colab": {
          "base_uri": "https://localhost:8080/",
          "height": 281
        },
        "id": "aCTIJpnJItwx",
        "outputId": "5708cc57-28df-4a8b-f8b6-6107944d39df"
      },
      "source": [
        "#clusstering librairies\n",
        "from matplotlib import pyplot as plt\n",
        "from scipy.cluster.hierarchy import dendrogram, linkage, fcluster\n",
        "\n",
        "#linkage matrix\n",
        "Z = linkage(X,method='ward',metric='euclidean')\n",
        "\n",
        "# dendrogramme\n",
        "plt.title(\"CAH\")\n",
        "dendrogram(Z,labels=Covid19_df.index,orientation='left',color_threshold=0)\n",
        "plt.show()"
      ],
      "execution_count": 32,
      "outputs": [
        {
          "output_type": "display_data",
          "data": {
            "image/png": "[encoded data removed]",
            "text/plain": [
              "<Figure size 432x288 with 1 Axes>"
            ]
          },
          "metadata": {
            "needs_background": "light"
          }
        }
      ]
    },
    {
      "cell_type": "code",
      "metadata": {
        "colab": {
          "base_uri": "https://localhost:8080/",
          "height": 314
        },
        "id": "9DnatM0nI5_r",
        "outputId": "33e93bb1-2015-4159-d438-ef859ea94511"
      },
      "source": [
        "plt.title('CAH ')\n",
        "dendrogram(Z,labels=Covid19_df.index,orientation='left',color_threshold=7)\n",
        "plt.show()\n",
        "\n",
        "\n",
        "groupes_cah = fcluster(Z,t=7,criterion='distance')\n",
        "print(groupes_cah)"
      ],
      "execution_count": 33,
      "outputs": [
        {
          "output_type": "display_data",
          "data": {
            "image/png": "[encoded data removed]",
            "text/plain": [
              "<Figure size 432x288 with 1 Axes>"
            ]
          },
          "metadata": {
            "needs_background": "light"
          }
        },
        {
          "output_type": "stream",
          "name": "stdout",
          "text": [
            "[4 2 2 2 2 2 2 2 2 2 1 1 1 1 1 2 1 1 1 1 1 1 1 1 1 1 1 1 1 1 1 1 1 1 1 1 1\n",
            " 1 3 1 1 1 1 1 1 1 1 1 1 1]\n"
          ]
        }
      ]
    },
    {
      "cell_type": "code",
      "metadata": {
        "colab": {
          "base_uri": "https://localhost:8080/"
        },
        "id": "Z13UzIdeJBGh",
        "outputId": "c07d7461-76ae-4188-b17b-7a0431a532f8"
      },
      "source": [
        "import numpy as np\n",
        "idg = np.argsort(groupes_cah)\n",
        "\n",
        "print(pd.DataFrame(Covid19_df.index[idg],groupes_cah[idg]).head())"
      ],
      "execution_count": 41,
      "outputs": [
        {
          "output_type": "stream",
          "name": "stdout",
          "text": [
            "      Country\n",
            "1     Tunisia\n",
            "1     Ireland\n",
            "1   Palestine\n",
            "1      Kuwait\n",
            "1  Costa Rica\n"
          ]
        }
      ]
    },
    {
      "cell_type": "code",
      "metadata": {
        "id": "gaXtDDSKJD9d"
      },
      "source": [
        ""
      ],
      "execution_count": null,
      "outputs": []
    }
  ]
}